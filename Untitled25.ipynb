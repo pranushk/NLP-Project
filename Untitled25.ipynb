{
  "nbformat": 4,
  "nbformat_minor": 0,
  "metadata": {
    "colab": {
      "provenance": [],
      "authorship_tag": "ABX9TyPnk2yhmTJCy/A2UvyctdX4",
      "include_colab_link": true
    },
    "kernelspec": {
      "name": "python3",
      "display_name": "Python 3"
    },
    "language_info": {
      "name": "python"
    }
  },
  "cells": [
    {
      "cell_type": "markdown",
      "metadata": {
        "id": "view-in-github",
        "colab_type": "text"
      },
      "source": [
        "<a href=\"https://colab.research.google.com/github/pranushk/NLP-Project/blob/main/Untitled25.ipynb\" target=\"_parent\"><img src=\"https://colab.research.google.com/assets/colab-badge.svg\" alt=\"Open In Colab\"/></a>"
      ]
    },
    {
      "cell_type": "code",
      "source": [
        "!pip install -q streamlit transformers pandas matplotlib pyngrok\n"
      ],
      "metadata": {
        "id": "LxPBbzmv6Qhn",
        "colab": {
          "base_uri": "https://localhost:8080/"
        },
        "outputId": "614292d7-f0f4-4951-f770-3342aaedd13e"
      },
      "execution_count": null,
      "outputs": [
        {
          "output_type": "stream",
          "name": "stdout",
          "text": [
            "\u001b[2K     \u001b[90m━━━━━━━━━━━━━━━━━━━━━━━━━━━━━━━━━━━━━━━━\u001b[0m \u001b[32m44.3/44.3 kB\u001b[0m \u001b[31m1.2 MB/s\u001b[0m eta \u001b[36m0:00:00\u001b[0m\n",
            "\u001b[2K   \u001b[90m━━━━━━━━━━━━━━━━━━━━━━━━━━━━━━━━━━━━━━━━\u001b[0m \u001b[32m9.9/9.9 MB\u001b[0m \u001b[31m28.6 MB/s\u001b[0m eta \u001b[36m0:00:00\u001b[0m\n",
            "\u001b[2K   \u001b[90m━━━━━━━━━━━━━━━━━━━━━━━━━━━━━━━━━━━━━━━━\u001b[0m \u001b[32m6.9/6.9 MB\u001b[0m \u001b[31m36.9 MB/s\u001b[0m eta \u001b[36m0:00:00\u001b[0m\n",
            "\u001b[2K   \u001b[90m━━━━━━━━━━━━━━━━━━━━━━━━━━━━━━━━━━━━━━━━\u001b[0m \u001b[32m79.1/79.1 kB\u001b[0m \u001b[31m4.3 MB/s\u001b[0m eta \u001b[36m0:00:00\u001b[0m\n",
            "\u001b[?25h"
          ]
        }
      ]
    },
    {
      "cell_type": "code",
      "source": [
        "%%writefile app.py\n",
        "import streamlit as st\n",
        "import pandas as pd\n",
        "from transformers import pipeline\n",
        "import matplotlib.pyplot as plt\n",
        "\n",
        "st.title(\"📊 Sentiment Analysis of Reviews\")\n",
        "\n",
        "uploaded_file = st.file_uploader(\"Upload a CSV or TXT file\", type=[\"csv\", \"txt\"])\n",
        "\n",
        "if uploaded_file:\n",
        "    try:\n",
        "        # Load file\n",
        "        if uploaded_file.name.endswith('.csv'):\n",
        "            df = pd.read_csv(uploaded_file)\n",
        "            review_col = [col for col in df.columns if 'review' in col.lower()]\n",
        "            if review_col:\n",
        "                reviews = df[review_col[0]].dropna().astype(str).tolist()\n",
        "            else:\n",
        "                st.error(\"❌ No column with 'review' in the name found.\")\n",
        "                st.stop()\n",
        "        elif uploaded_file.name.endswith('.txt'):\n",
        "            reviews = uploaded_file.getvalue().decode('utf-8').splitlines()\n",
        "            reviews = [r.strip() for r in reviews if r.strip()]\n",
        "        else:\n",
        "            st.error(\"❌ Only .csv or .txt files are supported.\")\n",
        "            st.stop()\n",
        "\n",
        "        # Sentiment analysis\n",
        "        with st.spinner(\"Analyzing...\"):\n",
        "            sentiment_pipeline = pipeline(\"sentiment-analysis\", model=\"distilbert-base-uncased-finetuned-sst-2-english\")\n",
        "            results = sentiment_pipeline(reviews, truncation=True)\n",
        "\n",
        "        # Results DataFrame\n",
        "        df_results = pd.DataFrame(results)\n",
        "        df_results['review'] = reviews\n",
        "        df_results['label'] = df_results['label'].map({'POSITIVE': 'Positive', 'NEGATIVE': 'Negative'})\n",
        "\n",
        "        # Pie chart\n",
        "        sentiment_percent = df_results['label'].value_counts(normalize=True) * 100\n",
        "        fig, ax = plt.subplots()\n",
        "        sentiment_percent.plot(kind='pie', autopct='%1.1f%%', colors=['green', 'red'], startangle=90, counterclock=False, ax=ax)\n",
        "        ax.set_ylabel('')\n",
        "        ax.set_title(\"Sentiment Distribution\")\n",
        "        st.pyplot(fig)\n",
        "\n",
        "        # Show data\n",
        "        st.subheader(\"Sample Reviews\")\n",
        "        st.dataframe(df_results[['review', 'label', 'score']].head(10))\n",
        "\n",
        "        # Download\n",
        "        st.download_button(\"Download CSV\", df_results.to_csv(index=False), \"results.csv\", \"text/csv\")\n",
        "\n",
        "    except Exception as e:\n",
        "        st.error(f\"Error: {e}\")\n"
      ],
      "metadata": {
        "id": "j7LeF7xi6XXk"
      },
      "execution_count": null,
      "outputs": []
    },
    {
      "cell_type": "markdown",
      "source": [],
      "metadata": {
        "id": "ugOCNBdAM7Em"
      }
    },
    {
      "cell_type": "code",
      "source": [
        "from pyngrok import ngrok\n",
        "\n",
        "# Paste your token inside the quotes below\n",
        "ngrok.set_auth_token(\"2wgHNMbTJRKM7AhI49Lt0ccB5Os_5LxGVBKmxLqF7wXqYQHvi\")\n"
      ],
      "metadata": {
        "id": "mshbavck6fvR",
        "colab": {
          "base_uri": "https://localhost:8080/"
        },
        "outputId": "f31bc765-9824-40cc-d404-477adc46201a"
      },
      "execution_count": null,
      "outputs": [
        {
          "output_type": "stream",
          "name": "stdout",
          "text": []
        }
      ]
    },
    {
      "cell_type": "code",
      "source": [
        "import threading\n",
        "import os\n",
        "import time\n",
        "\n",
        "# Kill anything on port 8501\n",
        "os.system(\"kill -9 $(lsof -t -i:8501) 2>/dev/null\")\n",
        "\n",
        "# Start streamlit app\n",
        "def run():\n",
        "    os.system(\"streamlit run app.py\")\n",
        "\n",
        "threading.Thread(target=run).start()\n",
        "\n",
        "# Wait for streamlit to launch\n",
        "time.sleep(5)\n",
        "\n",
        "# Connect to ngrok\n",
        "public_url = ngrok.connect(8501)\n",
        "print(f\"🌐 Streamlit app is live at: {public_url}\")\n"
      ],
      "metadata": {
        "colab": {
          "base_uri": "https://localhost:8080/"
        },
        "id": "YCtQGQyr7s0q",
        "outputId": "5044aac0-64ef-4e98-bc82-28d14f85fac5"
      },
      "execution_count": null,
      "outputs": [
        {
          "output_type": "stream",
          "name": "stdout",
          "text": [
            "🌐 Streamlit app is live at: NgrokTunnel: \"https://4a33-34-145-31-229.ngrok-free.app\" -> \"http://localhost:8501\"\n"
          ]
        }
      ]
    },
    {
      "cell_type": "markdown",
      "source": [],
      "metadata": {
        "id": "Crw-O6qg70R9"
      }
    }
  ]
}